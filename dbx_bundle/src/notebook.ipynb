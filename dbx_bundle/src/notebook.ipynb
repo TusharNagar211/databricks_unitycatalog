{
 "cells": [
  {
   "cell_type": "code",
   "execution_count": null,
   "id": "f81b5841",
   "metadata": {
    "vscode": {
     "languageId": "plaintext"
    }
   },
   "outputs": [],
   "source": [
    "%sql\n",
    "\n",
    "CREATE CATALOG TEST IF NOT EXISTS"
   ]
  }
 ],
 "metadata": {
  "language_info": {
   "name": "python"
  }
 },
 "nbformat": 4,
 "nbformat_minor": 5
}
